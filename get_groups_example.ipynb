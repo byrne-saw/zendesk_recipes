{
 "cells": [
  {
   "cell_type": "code",
   "execution_count": 1,
   "id": "leading-newport",
   "metadata": {},
   "outputs": [
    {
     "data": {
      "text/plain": [
       "True"
      ]
     },
     "execution_count": 1,
     "metadata": {},
     "output_type": "execute_result"
    }
   ],
   "source": [
    "import requests, os\n",
    "from dotenv import load_dotenv\n",
    "\n",
    "load_dotenv()"
   ]
  },
  {
   "cell_type": "code",
   "execution_count": 2,
   "id": "accepting-entry",
   "metadata": {},
   "outputs": [],
   "source": [
    "url = os.environ['ZD_URL']+'groups.json'\n",
    "user = os.environ['ZD_USER']\n",
    "pwd = os.environ['ZD_PW']"
   ]
  },
  {
   "cell_type": "code",
   "execution_count": 3,
   "id": "obvious-comparative",
   "metadata": {},
   "outputs": [],
   "source": [
    "# Do the HTTP get request\n",
    "response = requests.get(url, auth=(user, pwd))"
   ]
  },
  {
   "cell_type": "code",
   "execution_count": 5,
   "id": "lovely-blond",
   "metadata": {},
   "outputs": [
    {
     "name": "stdout",
     "output_type": "stream",
     "text": [
      "{'groups': [{'url': 'https://con-noctuahelp.zendesk.com/api/v2/groups/360017020491.json', 'id': 360017020491, 'name': 'Support', 'description': '', 'default': True, 'deleted': False, 'created_at': '2021-03-30T22:20:52Z', 'updated_at': '2021-03-30T22:20:52Z'}], 'next_page': None, 'previous_page': None, 'count': 1}\n"
     ]
    }
   ],
   "source": [
    "print(response.json())"
   ]
  },
  {
   "cell_type": "code",
   "execution_count": null,
   "id": "democratic-birthday",
   "metadata": {},
   "outputs": [],
   "source": []
  }
 ],
 "metadata": {
  "kernelspec": {
   "display_name": "Python 3",
   "language": "python",
   "name": "python3"
  },
  "language_info": {
   "codemirror_mode": {
    "name": "ipython",
    "version": 3
   },
   "file_extension": ".py",
   "mimetype": "text/x-python",
   "name": "python",
   "nbconvert_exporter": "python",
   "pygments_lexer": "ipython3",
   "version": "3.9.2"
  }
 },
 "nbformat": 4,
 "nbformat_minor": 5
}
