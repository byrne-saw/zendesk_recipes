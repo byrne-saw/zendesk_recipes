{
 "cells": [
  {
   "cell_type": "code",
   "execution_count": 34,
   "id": "adverse-czech",
   "metadata": {},
   "outputs": [],
   "source": [
    "import requests, os\n",
    "from dotenv import load_dotenv\n",
    "\n",
    "load_dotenv()\n",
    "\n",
    "endpoint = 'tickets'\n",
    "url = os.environ['ZD_URL'] + endpoint + '.json?page[size]=100'\n",
    "user = os.environ['ZD_USER']\n",
    "pwd = os.environ['ZD_PW']"
   ]
  },
  {
   "cell_type": "code",
   "execution_count": 35,
   "id": "prepared-drive",
   "metadata": {},
   "outputs": [
    {
     "name": "stdout",
     "output_type": "stream",
     "text": [
      "https://con-noctuahelp.zendesk.com/api/v2/tickets.json?page[size]=100\n"
     ]
    }
   ],
   "source": [
    "print(url)"
   ]
  },
  {
   "cell_type": "code",
   "execution_count": 36,
   "id": "laughing-happiness",
   "metadata": {},
   "outputs": [],
   "source": [
    "response = requests.get(url, auth=(user, pwd))\n",
    "response.raise_for_status()"
   ]
  },
  {
   "cell_type": "code",
   "execution_count": 37,
   "id": "consecutive-special",
   "metadata": {},
   "outputs": [
    {
     "data": {
      "text/plain": [
       "{'tickets': [{'url': 'https://con-noctuahelp.zendesk.com/api/v2/tickets/1.json',\n",
       "   'id': 1,\n",
       "   'external_id': None,\n",
       "   'via': {'channel': 'sample_ticket',\n",
       "    'source': {'from': {}, 'to': {}, 'rel': None}},\n",
       "   'created_at': '2021-03-30T22:20:55Z',\n",
       "   'updated_at': '2021-03-30T22:20:56Z',\n",
       "   'type': 'incident',\n",
       "   'subject': 'Sample ticket: Meet the ticket',\n",
       "   'raw_subject': 'Sample ticket: Meet the ticket',\n",
       "   'description': \"Hi Mark,\\n\\nThis is your first ticket. Ta-da! Any customer request sent to your supported channels (email, chat, voicemail, web form, and tweet) will become a Support ticket, just like this one. Respond to this ticket by typing a message and clicking Submit. You can also see how an email becomes a ticket by emailing your new account, support@con-noctuahelp.zendesk.com. Your ticket will appear in ticket views.\\n\\nThat's the ticket on tickets. If you want to learn more, check out: \\nhttps://support.zendesk.com/hc/en-us/articles/203691476\\n\",\n",
       "   'priority': 'normal',\n",
       "   'status': 'open',\n",
       "   'recipient': None,\n",
       "   'requester_id': 413697428471,\n",
       "   'submitter_id': 413499944832,\n",
       "   'assignee_id': 413499944832,\n",
       "   'organization_id': None,\n",
       "   'group_id': 360017020491,\n",
       "   'collaborator_ids': [],\n",
       "   'follower_ids': [],\n",
       "   'email_cc_ids': [],\n",
       "   'forum_topic_id': None,\n",
       "   'problem_id': None,\n",
       "   'has_incidents': False,\n",
       "   'is_public': True,\n",
       "   'due_at': None,\n",
       "   'tags': ['sample', 'support', 'zendesk'],\n",
       "   'custom_fields': [{'id': 360042778631, 'value': None},\n",
       "    {'id': 360042778611, 'value': None}],\n",
       "   'satisfaction_rating': None,\n",
       "   'sharing_agreement_ids': [],\n",
       "   'followup_ids': [],\n",
       "   'ticket_form_id': 360001555831,\n",
       "   'brand_id': 360005427371,\n",
       "   'satisfaction_probability': None,\n",
       "   'allow_channelback': False,\n",
       "   'allow_attachments': True},\n",
       "  {'url': 'https://con-noctuahelp.zendesk.com/api/v2/tickets/2.json',\n",
       "   'id': 2,\n",
       "   'external_id': None,\n",
       "   'via': {'channel': 'sample_ticket',\n",
       "    'source': {'from': {}, 'to': {}, 'rel': None}},\n",
       "   'created_at': '2021-03-30T22:24:07Z',\n",
       "   'updated_at': '2021-04-03T23:02:57Z',\n",
       "   'type': 'incident',\n",
       "   'subject': 'I need help',\n",
       "   'raw_subject': 'I need help',\n",
       "   'description': 'Hello,\\nSomething dramatic happened and I could really use your help.\\nThanks in advance,\\nCustomer\\n',\n",
       "   'priority': 'normal',\n",
       "   'status': 'closed',\n",
       "   'recipient': None,\n",
       "   'requester_id': 413697428471,\n",
       "   'submitter_id': 413499944832,\n",
       "   'assignee_id': 413499944832,\n",
       "   'organization_id': None,\n",
       "   'group_id': 360017020491,\n",
       "   'collaborator_ids': [],\n",
       "   'follower_ids': [],\n",
       "   'email_cc_ids': [],\n",
       "   'forum_topic_id': None,\n",
       "   'problem_id': None,\n",
       "   'has_incidents': False,\n",
       "   'is_public': True,\n",
       "   'due_at': None,\n",
       "   'tags': ['sample', 'support', 'zendesk'],\n",
       "   'custom_fields': [{'id': 360042778631, 'value': None},\n",
       "    {'id': 360042778611, 'value': None}],\n",
       "   'satisfaction_rating': None,\n",
       "   'sharing_agreement_ids': [],\n",
       "   'followup_ids': [],\n",
       "   'ticket_form_id': 360001555831,\n",
       "   'brand_id': 360005427371,\n",
       "   'satisfaction_probability': None,\n",
       "   'allow_channelback': False,\n",
       "   'allow_attachments': True}],\n",
       " 'meta': {'has_more': False,\n",
       "  'after_cursor': 'eyJvIjoibmljZV9pZCIsInYiOiJhUUlBQUFBQUFBQUEifQ==',\n",
       "  'before_cursor': 'eyJvIjoibmljZV9pZCIsInYiOiJhUUVBQUFBQUFBQUEifQ=='},\n",
       " 'links': {'prev': 'https://con-noctuahelp.zendesk.com/api/v2/tickets.json?page%5Bbefore%5D=eyJvIjoibmljZV9pZCIsInYiOiJhUUVBQUFBQUFBQUEifQ%3D%3D&page%5Bsize%5D=100',\n",
       "  'next': 'https://con-noctuahelp.zendesk.com/api/v2/tickets.json?page%5Bafter%5D=eyJvIjoibmljZV9pZCIsInYiOiJhUUlBQUFBQUFBQUEifQ%3D%3D&page%5Bsize%5D=100'}}"
      ]
     },
     "execution_count": 37,
     "metadata": {},
     "output_type": "execute_result"
    }
   ],
   "source": [
    "response.json()"
   ]
  },
  {
   "cell_type": "code",
   "execution_count": null,
   "id": "animal-scroll",
   "metadata": {},
   "outputs": [],
   "source": []
  }
 ],
 "metadata": {
  "kernelspec": {
   "display_name": "Python 3",
   "language": "python",
   "name": "python3"
  },
  "language_info": {
   "codemirror_mode": {
    "name": "ipython",
    "version": 3
   },
   "file_extension": ".py",
   "mimetype": "text/x-python",
   "name": "python",
   "nbconvert_exporter": "python",
   "pygments_lexer": "ipython3",
   "version": "3.9.2"
  }
 },
 "nbformat": 4,
 "nbformat_minor": 5
}
